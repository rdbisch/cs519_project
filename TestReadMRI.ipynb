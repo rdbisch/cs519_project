{
 "cells": [
  {
   "cell_type": "markdown",
   "metadata": {},
   "source": [
    "# CS519 Group Project\n",
    "Testing that we can read and display MRI data from internet\n",
    "\n",
    "Dataset downloaded from \n",
    "https://www.openfmri.org/dataset/ds000253/\n",
    "on 11/11/2020 8:30pm\n",
    "\n",
    "\\# https://s3.amazonaws.com/openneuro/ds000253/ds000253_R1.0.0/compressed/ds000253_R1.0.0_sub01-09.zip\n",
    "\\# https://s3.amazonaws.com/openneuro/ds000253/ds000253_R1.0.0/compressed/ds000253_R1.0.0_mriqc_metadata.zip\n",
    "\n",
    "This code based on BIDS tutorial @ https://github.com/bids-standard/pybids/blob/master/examples/pybids_tutorial.ipynb"
   ]
  },
  {
   "cell_type": "markdown",
   "metadata": {},
   "source": []
  },
  {
   "cell_type": "code",
   "execution_count": 1,
   "metadata": {},
   "outputs": [
    {
     "name": "stderr",
     "output_type": "stream",
     "text": [
      "/home/rdbisch/UofI/CS519/project/cs519_venv/lib/python3.8/site-packages/bids/layout/models.py:148: FutureWarning: The 'extension' entity currently excludes the leading dot ('.'). As of version 0.14.0, it will include the leading dot. To suppress this warning and include the leading dot, use `bids.config.set_option('extension_initial_dot', True)`.\n",
      "  warnings.warn(\"The 'extension' entity currently excludes the leading dot ('.'). \"\n"
     ]
    }
   ],
   "source": [
    "from bids import BIDSLayout\n",
    "layout = BIDSLayout(\"ds000253_R1.0.0\")"
   ]
  },
  {
   "cell_type": "code",
   "execution_count": 3,
   "metadata": {},
   "outputs": [
    {
     "name": "stdout",
     "output_type": "stream",
     "text": [
      "There are 153 files in the layout.\n",
      "\n",
      "The first 10 files are:\n"
     ]
    },
    {
     "data": {
      "text/plain": [
       "[<BIDSFile filename='/home/rdbisch/UofI/CS519/project/ds000253_R1.0.0/CHANGES'>,\n",
       " <BIDSJSONFile filename='/home/rdbisch/UofI/CS519/project/ds000253_R1.0.0/dataset_description.json'>,\n",
       " <BIDSDataFile filename='/home/rdbisch/UofI/CS519/project/ds000253_R1.0.0/participants.tsv'>,\n",
       " <BIDSFile filename='/home/rdbisch/UofI/CS519/project/ds000253_R1.0.0/README'>,\n",
       " <BIDSImageFile filename='/home/rdbisch/UofI/CS519/project/ds000253_R1.0.0/sub-01/anat/sub-01_T1w.nii.gz'>,\n",
       " <BIDSJSONFile filename='/home/rdbisch/UofI/CS519/project/ds000253_R1.0.0/sub-01/func/sub-01_task-localizer_bold.json'>,\n",
       " <BIDSImageFile filename='/home/rdbisch/UofI/CS519/project/ds000253_R1.0.0/sub-01/func/sub-01_task-localizer_bold.nii.gz'>,\n",
       " <BIDSDataFile filename='/home/rdbisch/UofI/CS519/project/ds000253_R1.0.0/sub-01/func/sub-01_task-localizer_events.tsv'>,\n",
       " <BIDSJSONFile filename='/home/rdbisch/UofI/CS519/project/ds000253_R1.0.0/sub-01/func/sub-01_task-run1_bold.json'>,\n",
       " <BIDSImageFile filename='/home/rdbisch/UofI/CS519/project/ds000253_R1.0.0/sub-01/func/sub-01_task-run1_bold.nii.gz'>]"
      ]
     },
     "execution_count": 3,
     "metadata": {},
     "output_type": "execute_result"
    }
   ],
   "source": [
    "all_files = layout.get()\n",
    "print(\"There are {} files in the layout.\".format(len(all_files)))\n",
    "print(\"\\nThe first 10 files are:\")\n",
    "all_files[:10]"
   ]
  },
  {
   "cell_type": "code",
   "execution_count": 4,
   "metadata": {},
   "outputs": [
    {
     "data": {
      "text/plain": [
       "<BIDSImageFile filename='/home/rdbisch/UofI/CS519/project/ds000253_R1.0.0/sub-01/anat/sub-01_T1w.nii.gz'>"
      ]
     },
     "execution_count": 4,
     "metadata": {},
     "output_type": "execute_result"
    }
   ],
   "source": [
    "bf = layout.get()[4]\n",
    "bf"
   ]
  },
  {
   "cell_type": "code",
   "execution_count": 5,
   "metadata": {},
   "outputs": [
    {
     "data": {
      "text/plain": [
       "{'datatype': 'anat', 'extension': 'nii.gz', 'subject': '01', 'suffix': 'T1w'}"
      ]
     },
     "execution_count": 5,
     "metadata": {},
     "output_type": "execute_result"
    }
   ],
   "source": [
    "bf.get_entities()"
   ]
  },
  {
   "cell_type": "code",
   "execution_count": 6,
   "metadata": {},
   "outputs": [],
   "source": [
    "test = bf.get_image()"
   ]
  },
  {
   "cell_type": "code",
   "execution_count": 7,
   "metadata": {},
   "outputs": [
    {
     "name": "stdout",
     "output_type": "stream",
     "text": [
      "<class 'nibabel.nifti1.Nifti1Image'>\n",
      "data shape (192, 256, 256)\n",
      "affine: \n",
      "[[ 9.99847531e-01 -4.39310540e-03 -1.57607142e-02 -9.63154984e+01]\n",
      " [ 1.04716364e-02  8.73462439e-01  3.40401649e-01 -7.98037872e+01]\n",
      " [ 1.39616346e-02 -3.40514839e-01  8.73375356e-01 -7.85818481e+01]\n",
      " [ 0.00000000e+00  0.00000000e+00  0.00000000e+00  1.00000000e+00]]\n",
      "metadata:\n",
      "<class 'nibabel.nifti1.Nifti1Header'> object, endian='<'\n",
      "sizeof_hdr      : 348\n",
      "data_type       : b''\n",
      "db_name         : b''\n",
      "extents         : 0\n",
      "session_error   : 0\n",
      "regular         : b''\n",
      "dim_info        : 0\n",
      "dim             : [  3 192 256 256   1   1   1   1]\n",
      "intent_p1       : 0.0\n",
      "intent_p2       : 0.0\n",
      "intent_p3       : 0.0\n",
      "intent_code     : none\n",
      "datatype        : float32\n",
      "bitpix          : 32\n",
      "slice_start     : 0\n",
      "pixdim          : [1.        0.9999998 0.9375    0.9375    1.9       1.        1.\n",
      " 1.       ]\n",
      "vox_offset      : 0.0\n",
      "scl_slope       : nan\n",
      "scl_inter       : nan\n",
      "slice_end       : 0\n",
      "slice_code      : unknown\n",
      "xyzt_units      : 10\n",
      "cal_max         : 0.0\n",
      "cal_min         : 0.0\n",
      "slice_duration  : 0.0\n",
      "toffset         : 0.0\n",
      "glmax           : 0\n",
      "glmin           : 0\n",
      "descrip         : b'FreeSurfer Jan 19 2017'\n",
      "aux_file        : b''\n",
      "qform_code      : scanner\n",
      "sform_code      : scanner\n",
      "quatern_b       : -0.1847661\n",
      "quatern_c       : -0.007828354\n",
      "quatern_d       : 0.0038559434\n",
      "qoffset_x       : -96.3155\n",
      "qoffset_y       : -79.80379\n",
      "qoffset_z       : -78.58185\n",
      "srow_x          : [ 9.9984753e-01 -4.3931054e-03 -1.5760714e-02 -9.6315498e+01]\n",
      "srow_y          : [ 1.0471636e-02  8.7346244e-01  3.4040165e-01 -7.9803787e+01]\n",
      "srow_z          : [ 1.3961635e-02 -3.4051484e-01  8.7337536e-01 -7.8581848e+01]\n",
      "intent_name     : b''\n",
      "magic           : b'n+1'\n"
     ]
    }
   ],
   "source": [
    "print(test)"
   ]
  },
  {
   "cell_type": "code",
   "execution_count": 8,
   "metadata": {},
   "outputs": [
    {
     "data": {
      "text/plain": [
       "(192, 256, 256)"
      ]
     },
     "execution_count": 8,
     "metadata": {},
     "output_type": "execute_result"
    }
   ],
   "source": [
    "test.shape"
   ]
  },
  {
   "cell_type": "markdown",
   "metadata": {},
   "source": [
    "https://nipy.org/nibabel/coordinate_systems.html"
   ]
  },
  {
   "cell_type": "code",
   "execution_count": 11,
   "metadata": {},
   "outputs": [
    {
     "data": {
      "text/plain": [
       "Text(0.5, 0.98, 'Center slices for EPI image')"
      ]
     },
     "execution_count": 11,
     "metadata": {},
     "output_type": "execute_result"
    },
    {
     "data": {
      "image/png": "[encoded data removed]",
      "text/plain": [
       "<Figure size 432x288 with 3 Axes>"
      ]
     },
     "metadata": {
      "needs_background": "light"
     },
     "output_type": "display_data"
    }
   ],
   "source": [
    "import matplotlib.pyplot as plt\n",
    "def show_slices(slices):\n",
    "    \"\"\" Function to display row of image slices \"\"\"\n",
    "    fig, axes = plt.subplots(1, len(slices))\n",
    "    for i, slice in enumerate(slices):\n",
    "        axes[i].imshow(slice.T, cmap=\"gray\", origin=\"lower\")\n",
    "\n",
    "test_fdata = test.get_fdata()\n",
    "slice_0 = test_fdata[26, :, :]\n",
    "slice_1 = test_fdata[:, 30, :]\n",
    "slice_2 = test_fdata[:, :, 16]\n",
    "show_slices([slice_0, slice_1, slice_2])\n",
    "plt.suptitle(\"Center slices for EPI image\") "
   ]
  },
  {
   "cell_type": "code",
   "execution_count": null,
   "metadata": {},
   "outputs": [],
   "source": []
  }
 ],
 "metadata": {
  "kernelspec": {
   "display_name": "Python 3",
   "language": "python",
   "name": "python3"
  },
  "language_info": {
   "codemirror_mode": {
    "name": "ipython",
    "version": 3
   },
   "file_extension": ".py",
   "mimetype": "text/x-python",
   "name": "python",
   "nbconvert_exporter": "python",
   "pygments_lexer": "ipython3",
   "version": "3.8.2"
  }
 },
 "nbformat": 4,
 "nbformat_minor": 4
}
