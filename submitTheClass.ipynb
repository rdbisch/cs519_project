{
 "cells": [
  {
   "cell_type": "code",
   "execution_count": 1,
   "metadata": {},
   "outputs": [
    {
     "name": "stderr",
     "output_type": "stream",
     "text": [
      "/home/rdbisch/UofI/CS519/project/cs519_venv/lib/python3.8/site-packages/bids/layout/models.py:148: FutureWarning: The 'extension' entity currently excludes the leading dot ('.'). As of version 0.14.0, it will include the leading dot. To suppress this warning and include the leading dot, use `bids.config.set_option('extension_initial_dot', True)`.\n",
      "  warnings.warn(\"The 'extension' entity currently excludes the leading dot ('.'). \"\n"
     ]
    }
   ],
   "source": [
    "from bids import BIDSLayout\n",
    "layout = BIDSLayout(\"ds000253_R1.0.0\")\n",
    "import random\n",
    "import pylab as plt\n",
    "import numpy as np\n",
    "from matplotlib.widgets import Button\n",
    "from matplotlib.colors import ListedColormap, LinearSegmentedColormap\n",
    "#%matplotlib notebook\n",
    "%matplotlib inline"
   ]
  },
  {
   "cell_type": "code",
   "execution_count": 2,
   "metadata": {},
   "outputs": [
    {
     "name": "stdout",
     "output_type": "stream",
     "text": [
      "There are 153 files in the layout.\n",
      "\n",
      "The first 10 files are:\n"
     ]
    },
    {
     "data": {
      "text/plain": [
       "[<BIDSFile filename='/home/rdbisch/UofI/CS519/project/ds000253_R1.0.0/CHANGES'>,\n",
       " <BIDSJSONFile filename='/home/rdbisch/UofI/CS519/project/ds000253_R1.0.0/dataset_description.json'>,\n",
       " <BIDSDataFile filename='/home/rdbisch/UofI/CS519/project/ds000253_R1.0.0/participants.tsv'>,\n",
       " <BIDSFile filename='/home/rdbisch/UofI/CS519/project/ds000253_R1.0.0/README'>,\n",
       " <BIDSImageFile filename='/home/rdbisch/UofI/CS519/project/ds000253_R1.0.0/sub-01/anat/sub-01_T1w.nii.gz'>,\n",
       " <BIDSJSONFile filename='/home/rdbisch/UofI/CS519/project/ds000253_R1.0.0/sub-01/func/sub-01_task-localizer_bold.json'>,\n",
       " <BIDSImageFile filename='/home/rdbisch/UofI/CS519/project/ds000253_R1.0.0/sub-01/func/sub-01_task-localizer_bold.nii.gz'>,\n",
       " <BIDSDataFile filename='/home/rdbisch/UofI/CS519/project/ds000253_R1.0.0/sub-01/func/sub-01_task-localizer_events.tsv'>,\n",
       " <BIDSJSONFile filename='/home/rdbisch/UofI/CS519/project/ds000253_R1.0.0/sub-01/func/sub-01_task-run1_bold.json'>,\n",
       " <BIDSImageFile filename='/home/rdbisch/UofI/CS519/project/ds000253_R1.0.0/sub-01/func/sub-01_task-run1_bold.nii.gz'>]"
      ]
     },
     "execution_count": 2,
     "metadata": {},
     "output_type": "execute_result"
    }
   ],
   "source": [
    "all_files = layout.get()\n",
    "print(\"There are {} files in the layout.\".format(len(all_files)))\n",
    "print(\"\\nThe first 10 files are:\")\n",
    "all_files[:10]"
   ]
  },
  {
   "cell_type": "code",
   "execution_count": 3,
   "metadata": {},
   "outputs": [
    {
     "data": {
      "text/plain": [
       "<BIDSImageFile filename='/home/rdbisch/UofI/CS519/project/ds000253_R1.0.0/sub-01/anat/sub-01_T1w.nii.gz'>"
      ]
     },
     "execution_count": 3,
     "metadata": {},
     "output_type": "execute_result"
    }
   ],
   "source": [
    "bf = layout.get()[4]\n",
    "bf"
   ]
  },
  {
   "cell_type": "code",
   "execution_count": 4,
   "metadata": {},
   "outputs": [
    {
     "data": {
      "text/plain": [
       "{'datatype': 'anat', 'extension': 'nii.gz', 'subject': '01', 'suffix': 'T1w'}"
      ]
     },
     "execution_count": 4,
     "metadata": {},
     "output_type": "execute_result"
    }
   ],
   "source": [
    "bf.get_entities()"
   ]
  },
  {
   "cell_type": "code",
   "execution_count": 5,
   "metadata": {},
   "outputs": [],
   "source": [
    "test = bf.get_image()"
   ]
  },
  {
   "cell_type": "code",
   "execution_count": 6,
   "metadata": {},
   "outputs": [
    {
     "data": {
      "text/plain": [
       "(192, 256, 256)"
      ]
     },
     "execution_count": 6,
     "metadata": {},
     "output_type": "execute_result"
    }
   ],
   "source": [
    "test.shape"
   ]
  },
  {
   "cell_type": "code",
   "execution_count": 7,
   "metadata": {},
   "outputs": [
    {
     "name": "stdout",
     "output_type": "stream",
     "text": [
      "<class 'nibabel.nifti1.Nifti1Image'>\n",
      "data shape (192, 256, 256)\n",
      "affine: \n",
      "[[ 9.99847531e-01 -4.39310540e-03 -1.57607142e-02 -9.63154984e+01]\n",
      " [ 1.04716364e-02  8.73462439e-01  3.40401649e-01 -7.98037872e+01]\n",
      " [ 1.39616346e-02 -3.40514839e-01  8.73375356e-01 -7.85818481e+01]\n",
      " [ 0.00000000e+00  0.00000000e+00  0.00000000e+00  1.00000000e+00]]\n",
      "metadata:\n",
      "<class 'nibabel.nifti1.Nifti1Header'> object, endian='<'\n",
      "sizeof_hdr      : 348\n",
      "data_type       : b''\n",
      "db_name         : b''\n",
      "extents         : 0\n",
      "session_error   : 0\n",
      "regular         : b''\n",
      "dim_info        : 0\n",
      "dim             : [  3 192 256 256   1   1   1   1]\n",
      "intent_p1       : 0.0\n",
      "intent_p2       : 0.0\n",
      "intent_p3       : 0.0\n",
      "intent_code     : none\n",
      "datatype        : float32\n",
      "bitpix          : 32\n",
      "slice_start     : 0\n",
      "pixdim          : [1.        0.9999998 0.9375    0.9375    1.9       1.        1.\n",
      " 1.       ]\n",
      "vox_offset      : 0.0\n",
      "scl_slope       : nan\n",
      "scl_inter       : nan\n",
      "slice_end       : 0\n",
      "slice_code      : unknown\n",
      "xyzt_units      : 10\n",
      "cal_max         : 0.0\n",
      "cal_min         : 0.0\n",
      "slice_duration  : 0.0\n",
      "toffset         : 0.0\n",
      "glmax           : 0\n",
      "glmin           : 0\n",
      "descrip         : b'FreeSurfer Jan 19 2017'\n",
      "aux_file        : b''\n",
      "qform_code      : scanner\n",
      "sform_code      : scanner\n",
      "quatern_b       : -0.1847661\n",
      "quatern_c       : -0.007828354\n",
      "quatern_d       : 0.0038559434\n",
      "qoffset_x       : -96.3155\n",
      "qoffset_y       : -79.80379\n",
      "qoffset_z       : -78.58185\n",
      "srow_x          : [ 9.9984753e-01 -4.3931054e-03 -1.5760714e-02 -9.6315498e+01]\n",
      "srow_y          : [ 1.0471636e-02  8.7346244e-01  3.4040165e-01 -7.9803787e+01]\n",
      "srow_z          : [ 1.3961635e-02 -3.4051484e-01  8.7337536e-01 -7.8581848e+01]\n",
      "intent_name     : b''\n",
      "magic           : b'n+1'\n"
     ]
    }
   ],
   "source": [
    "print(test)"
   ]
  },
  {
   "cell_type": "code",
   "execution_count": 8,
   "metadata": {},
   "outputs": [],
   "source": [
    "test_fdata = test.get_fdata()"
   ]
  },
  {
   "cell_type": "code",
   "execution_count": 9,
   "metadata": {},
   "outputs": [
    {
     "data": {
      "text/plain": [
       "array([ 1.,  8.,  5.,  5.,  9.,  2.,  5.,  6., 12., 11.,  5., 10.,  5.,\n",
       "        6., 11., 12.,  2.,  1.,  4.,  2., 12.,  1., 14.,  5., 11., 13.,\n",
       "       16., 10.,  6.,  4.,  6.,  3., 11.,  2.,  4.,  6.,  5.,  1.,  3.,\n",
       "        3.,  1.,  2.,  5.,  5.,  2.,  6.,  6.,  7.,  4.,  5.,  1.,  3.,\n",
       "        3.,  1.,  5.,  2.,  1.,  4.,  4.,  5.,  0.,  1.,  0.,  3.,  1.,\n",
       "        2.,  3.,  1.,  0.,  1.,  4.,  1.,  2.,  1.,  4.,  0.,  4.,  2.,\n",
       "        3.,  1.,  3.,  2.,  3.,  4.,  4.,  3.,  2.,  2.,  0.,  1.,  2.,\n",
       "        0.,  2.,  4.,  1.,  4.,  2.,  1.,  1.,  0.,  2.,  1.,  4.,  1.,\n",
       "        2.,  0.,  1.,  2.,  3.,  2.,  2.,  2.,  1.,  0.,  2.,  1.,  3.,\n",
       "        2.,  2.,  0.,  0.,  2.,  1.,  2.,  2.,  1.,  0.,  1.,  0.,  3.,\n",
       "        1.,  2.,  1.,  2.,  0.,  3.,  4.,  2.,  0.,  2.,  3.,  3.,  2.,\n",
       "        1.,  3.,  0.,  2.,  4.,  4.,  1.,  3.,  1.,  0.,  1.,  1.,  0.,\n",
       "        1.,  0.,  0.,  0.,  2.,  1.,  1.,  2.,  2.,  1.,  1.,  4.,  0.,\n",
       "        1.,  2.,  2.,  1.,  2.,  3.,  2.,  2.,  3.,  2.,  3.,  4.,  1.,\n",
       "        1.,  2.,  2.,  3.,  5.,  4.,  1.,  3.,  1.,  0.,  0.,  1.,  0.,\n",
       "        4.,  2.,  1.,  3.,  3.,  1.,  1.,  1.,  2.,  0.,  3.,  1.,  0.,\n",
       "        2.,  1.,  0.,  2.,  3.,  4.,  1.,  1.,  1.,  1.,  2.,  3.,  0.,\n",
       "        1.,  2.,  1.,  0.,  1.,  1.,  1.,  1.,  0.,  2.,  1.,  1.,  1.,\n",
       "        2.,  2.,  2.,  0.,  1.,  2.,  0.,  3.,  0.,  3.,  1.,  1.,  1.,\n",
       "        2.,  0.,  1.,  1.,  0.,  2.,  0.,  2.,  0.])"
      ]
     },
     "execution_count": 9,
     "metadata": {},
     "output_type": "execute_result"
    }
   ],
   "source": [
    "test_fdata.shape\n",
    "slice_0 = test_fdata[26, :, :]\n",
    "slice_0.shape\n",
    "slice_0[1]"
   ]
  },
  {
   "cell_type": "code",
   "execution_count": 10,
   "metadata": {},
   "outputs": [
    {
     "data": {
      "text/plain": [
       "Text(0.5, 0.98, 'Center slices for EPI image')"
      ]
     },
     "execution_count": 10,
     "metadata": {},
     "output_type": "execute_result"
    },
    {
     "data": {
      "image/png": "[encoded data removed]",
      "text/plain": [
       "<Figure size 432x288 with 3 Axes>"
      ]
     },
     "metadata": {
      "needs_background": "light"
     },
     "output_type": "display_data"
    }
   ],
   "source": [
    "import matplotlib.pyplot as plt\n",
    "def show_slices(slices):\n",
    "    \"\"\" Function to display row of image slices \"\"\"\n",
    "    fig, axes = plt.subplots(1, len(slices))\n",
    "    for i, slice in enumerate(slices):\n",
    "        axes[i].imshow(slice.T, cmap=\"gray\", origin=\"lower\")\n",
    "\n",
    "test_fdata = test.get_fdata()\n",
    "slice_0 = test_fdata[26, :, :]\n",
    "slice_1 = test_fdata[:, 30, :]\n",
    "slice_2 = test_fdata[:, :, 16]\n",
    "show_slices([slice_0, slice_1, slice_2])\n",
    "plt.suptitle(\"Center slices for EPI image\")"
   ]
  },
  {
   "cell_type": "code",
   "execution_count": 11,
   "metadata": {},
   "outputs": [],
   "source": [
    "### KEEP\n",
    "\n",
    "def getContourCase(top,left,thres,cells):\n",
    "    \n",
    "    dictionary_cases = {\n",
    "    \"0000\":0,\n",
    "    \"0001\":1,\n",
    "    \"0010\":2,\n",
    "    \"0011\":3,\n",
    "    \"0100\":4,\n",
    "    \"0101\":5,\n",
    "    \"0110\":6,\n",
    "    \"0111\":7,\n",
    "    \"1000\":8,\n",
    "    \"1001\":9,\n",
    "    \"1010\":10,\n",
    "    \"1011\":11,\n",
    "    \"1100\":12,\n",
    "    \"1101\":13,\n",
    "    \"1110\":14,\n",
    "    \"1111\":15\n",
    "    }\n",
    "    result = ''\n",
    "    \n",
    "    rows = len(cells)\n",
    "    col = len(cells[0])\n",
    "    \n",
    "    if(top+1>rows-1):\n",
    "        return 0\n",
    "    if(left+1>col-1):\n",
    "        return 0\n",
    "    \n",
    "    if(cells[top,left] >= thres):\n",
    "        result = result +'1'\n",
    "    else:\n",
    "        result = result + '0'\n",
    "\n",
    "    if(cells[top,left+1] >= thres):\n",
    "        result = result +'1'\n",
    "    else:\n",
    "        result = result + '0'\n",
    "\n",
    "    if(cells[top+1,left+1] >= thres):\n",
    "        result = result +'1'\n",
    "    else:\n",
    "        result = result + '0'\n",
    "\n",
    "    if(cells[top+1,left] >= thres):\n",
    "        result = result +'1'\n",
    "    else:\n",
    "        result = result + '0'\n",
    "    \n",
    "    return dictionary_cases[result]"
   ]
  },
  {
   "cell_type": "code",
   "execution_count": 12,
   "metadata": {},
   "outputs": [],
   "source": [
    "### KEEP\n",
    "\n",
    "def disambiguateSaddle(top,left,thres,cells):\n",
    "    a = cells[top,left]\n",
    "    b = cells[top,left+1]\n",
    "    c = cells[top+1,left+1]\n",
    "    d = cells[top+1, left]\n",
    "    \n",
    "    avg = (a+b+c+d)/4\n",
    "    \n",
    "    if(avg >= thres):\n",
    "      return(True)\n",
    "    else:\n",
    "      return(False)\n",
    "    \n",
    "    # YOUR CODE HERE\n",
    "    raise NotImplementedError\n",
    "    "
   ]
  },
  {
   "cell_type": "code",
   "execution_count": 13,
   "metadata": {},
   "outputs": [],
   "source": [
    "### KEEP\n",
    "\n",
    "def interpolate(v1,v2,t):\n",
    "    result = (t - v1)/(v2-v1)\n",
    "    return result\n"
   ]
  },
  {
   "cell_type": "code",
   "execution_count": 14,
   "metadata": {},
   "outputs": [],
   "source": [
    "### KEEP\n",
    "\n",
    "def getCellSegments(top,left,thres,cells):\n",
    "    \n",
    "    case = getContourCase(top,left,thres,cells)\n",
    "    result = []\n",
    "    if(case == 0 or case == 15):\n",
    "        result = []\n",
    "        \n",
    "    elif(case == 1 or case == 14): \n",
    "        value1 = cells[top,left]\n",
    "        value2 = cells[top+1,left]\n",
    "        value3 = cells[top+1, left]\n",
    "        value4 = cells[top+1, left+1]\n",
    "        point1 = interpolate(value1,value2,thres)\n",
    "        point2 = interpolate(value3,value4,thres)\n",
    "        result = [[(left,top+point1),(left+point2,top+1)]]\n",
    "        \n",
    "    elif(case == 2 or case == 13):\n",
    "        value1 = cells[top+1,left]\n",
    "        value2 = cells[top+1,left+1]\n",
    "        value3 = cells[top, left+1]\n",
    "        value4 = cells[top+1, left+1]\n",
    "        point1 = interpolate(value1,value2,thres)\n",
    "        point2 = interpolate(value3,value4,thres)\n",
    "        result = [[(left+point1,top+1),(left+1,top+point2)]]\n",
    "    \n",
    "    elif(case == 3 or case == 12):\n",
    "        value1 = cells[top,left]\n",
    "        value2 = cells[top+1,left]\n",
    "        value3 = cells[top, left+1]\n",
    "        value4 = cells[top+1, left+1]\n",
    "        point1 = interpolate(value1,value2,thres)\n",
    "        point2 = interpolate(value3,value4,thres)\n",
    "        result = [[(left,top+point1),(left+1,top+point2)]]\n",
    "\n",
    "    elif(case == 4 or case == 11):\n",
    "        value1 = cells[top,left]\n",
    "        value2 = cells[top,left+1]\n",
    "        value3 = cells[top, left+1]\n",
    "        value4 = cells[top+1, left+1]\n",
    "        point1 = interpolate(value1,value2,thres)\n",
    "        point2 = interpolate(value3,value4,thres)\n",
    "        result = [[(left+point1,top),(left+1,top+point2)]]\n",
    "\n",
    "    elif(case == 5):\n",
    "        #line1\n",
    "        value1 = cells[top,left]\n",
    "        value2 = cells[top+1,left]\n",
    "        value3 = cells[top, left]\n",
    "        value4 = cells[top, left+1]\n",
    "        point1 = interpolate(value1,value2,thres)\n",
    "        point2 = interpolate(value3,value4,thres)\n",
    "        line1 = [(left,top+point1),(left+point2,top)]\n",
    "        \n",
    "        #line2\n",
    "        value1 = cells[top+1,left]\n",
    "        value2 = cells[top+1,left+1]\n",
    "        value3 = cells[top, left+1]\n",
    "        value4 = cells[top+1, left+1]\n",
    "        point1 = interpolate(value1,value2,thres)\n",
    "        point2 = interpolate(value3,value4,thres)\n",
    "        line2 = [(left+point1,top+1),(left+1,top+point2)]\n",
    "        results = [line1, line2]\n",
    "\n",
    "    elif(case == 6 or case == 9):\n",
    "        value1 = cells[top,left]\n",
    "        value2 = cells[top,left+1]\n",
    "        value3 = cells[top+1, left]\n",
    "        value4 = cells[top+1, left+1]\n",
    "        point1 = interpolate(value1,value2,thres)\n",
    "        point2 = interpolate(value3,value4,thres)\n",
    "        result = [[(left+point1,top),(left+point2,top+1)]]\n",
    "    \n",
    "    elif(case == 7 or case == 8):\n",
    "        value1 = cells[top,left]\n",
    "        value2 = cells[top+1,left]\n",
    "        value3 = cells[top, left]\n",
    "        value4 = cells[top, left+1]\n",
    "        point1 = interpolate(value1,value2,thres)\n",
    "        point2 = interpolate(value3,value4,thres)\n",
    "        result = [[(left,top+point1),(left+point2,top)]]\n",
    "        \n",
    "    elif(case == 10):\n",
    "        #line1\n",
    "        value1 = cells[top,left]\n",
    "        value2 = cells[top+1,left]\n",
    "        value3 = cells[top+1, left]\n",
    "        value4 = cells[top+1, left+1]\n",
    "        point1 = interpolate(value1,value2,thres)\n",
    "        point2 = interpolate(value3,value4,thres)\n",
    "        line1 = [(left,top+point1),(left+point2,top+1)]\n",
    "        \n",
    "        value1 = cells[top,left]\n",
    "        value2 = cells[top,left+1]\n",
    "        value3 = cells[top, left+1]\n",
    "        value4 = cells[top+1, left+1]\n",
    "        point1 = interpolate(value1,value2,thres)\n",
    "        point2 = interpolate(value3,value4,thres)\n",
    "        line2 = [(left+point1,top),(left+1,top+point2)]\n",
    "        \n",
    "        results = [line1,line2]\n",
    "        \n",
    "    else:\n",
    "        return 0\n",
    "    \n",
    "    return result\n",
    "              "
   ]
  },
  {
   "cell_type": "code",
   "execution_count": 15,
   "metadata": {},
   "outputs": [],
   "source": [
    "# keep\n",
    "\n",
    "def getContourSegments(thres,cells):\n",
    "    rows = len(cells)\n",
    "    cols = len(cells[0])\n",
    "    top = 0\n",
    "    left = 0\n",
    "    final = []\n",
    "    \n",
    "    while (left < cols):\n",
    "        while(top < rows):\n",
    "            result = getCellSegments(top, left, thres, cells)\n",
    "            final.extend(result)\n",
    "            top = top + 1\n",
    "        left = left + 1\n",
    "        top = 0\n",
    " \n",
    "    return final"
   ]
  },
  {
   "cell_type": "markdown",
   "metadata": {},
   "source": [
    "# Barebones Marching Square Ahead\n",
    "First you need to install some more libraries maybe.  Run the next two pip installs."
   ]
  },
  {
   "cell_type": "code",
   "execution_count": 16,
   "metadata": {},
   "outputs": [
    {
     "name": "stdout",
     "output_type": "stream",
     "text": [
      "Requirement already satisfied: opencv-python in ./cs519_venv/lib/python3.8/site-packages (4.4.0.46)\r\n",
      "Requirement already satisfied: numpy>=1.17.3 in ./cs519_venv/lib/python3.8/site-packages (from opencv-python) (1.19.4)\r\n"
     ]
    }
   ],
   "source": [
    "!pip install opencv-python"
   ]
  },
  {
   "cell_type": "code",
   "execution_count": 17,
   "metadata": {},
   "outputs": [
    {
     "name": "stdout",
     "output_type": "stream",
     "text": [
      "Requirement already satisfied: requests in ./cs519_venv/lib/python3.8/site-packages (2.25.0)\r\n",
      "Requirement already satisfied: idna<3,>=2.5 in ./cs519_venv/lib/python3.8/site-packages (from requests) (2.10)\r\n",
      "Requirement already satisfied: certifi>=2017.4.17 in ./cs519_venv/lib/python3.8/site-packages (from requests) (2020.11.8)\r\n",
      "Requirement already satisfied: chardet<4,>=3.0.2 in ./cs519_venv/lib/python3.8/site-packages (from requests) (3.0.4)\r\n",
      "Requirement already satisfied: urllib3<1.27,>=1.21.1 in ./cs519_venv/lib/python3.8/site-packages (from requests) (1.26.2)\r\n"
     ]
    }
   ],
   "source": [
    "!pip install requests"
   ]
  },
  {
   "cell_type": "markdown",
   "metadata": {},
   "source": [
    "# Stripped Down Marching Squares Ahead\n",
    "Returns a 3-channel numpy array, which is the image plus the isoline drawn at thresh"
   ]
  },
  {
   "cell_type": "code",
   "execution_count": 18,
   "metadata": {},
   "outputs": [],
   "source": [
    "# https://stackoverflow.com/questions/15713279/calling-pylab-savefig-without-display-in-ipython\n",
    "# https://stackoverflow.com/questions/8598673/how-to-save-a-pylab-figure-into-in-memory-file-which-can-be-read-into-pil-image\n",
    "# https://stackoverflow.com/questions/54160208/how-to-use-opencv-in-python3-to-read-file-from-file-buffer\n",
    "\n",
    "import io\n",
    "import cv2\n",
    "import matplotlib.pyplot as plt\n",
    "import io, requests, cv2, numpy as np\n",
    "\n",
    "def segments(image, thresh):\n",
    "    plt.ioff()\n",
    "\n",
    "    # MATPLOTLIB BOILERPLATE TO SETUP DRAWING\n",
    "    # #########################################\n",
    "    fig, axes = plt.subplots()\n",
    "    axes.set_aspect('equal')               # I have no idea \n",
    "    plt.subplots_adjust(bottom = 0.2)      # ditto\n",
    "    axes.clear()\n",
    "    axes.set_yticks([])\n",
    "    axes.set_xticks([])\n",
    "    axes.set_yticklabels([])\n",
    "    axes.set_xticklabels([])\n",
    "    axes.invert_yaxis()\n",
    "    axes.imshow(image)\n",
    "    fig.canvas.draw()\n",
    "    # #######################################\n",
    "    # END MATPLOTLIB BOILERPLATE\n",
    "    # #######################################\n",
    "\n",
    "    segments = getContourSegments(thresh,image)\n",
    "    for s in segments:\n",
    "        x1 = (0.5+s[0][0])\n",
    "        x2 = (0.5+s[1][0])\n",
    "        y1 = (0.5+s[0][1])\n",
    "        y2 = (0.5+s[1][1])\n",
    "        axes.plot([x1,x2], [y1,y2], color='white', linestyle='-', linewidth=1)\n",
    "        \n",
    "    buf = io.BytesIO()\n",
    "    plt.savefig(buf, format = 'png')\n",
    "    buf.seek(0)\n",
    "    img = cv2.imdecode(np.frombuffer(buf.read(), np.uint8), 1)\n",
    "    img = cv2.cvtColor(img, cv2.COLOR_BGR2RGB)\n",
    "    plt.close(fig)\n",
    "    plt.ion()\n",
    "    return img"
   ]
  },
  {
   "cell_type": "code",
   "execution_count": 19,
   "metadata": {
    "scrolled": false
   },
   "outputs": [
    {
     "data": {
      "image/png": "[encoded data removed]",
      "text/plain": [
       "<Figure size 432x288 with 1 Axes>"
      ]
     },
     "metadata": {
      "needs_background": "light"
     },
     "output_type": "display_data"
    }
   ],
   "source": [
    "# I manually figured these points out\n",
    "crop = test_fdata[:, 75:150, 65:170]\n",
    "\n",
    "thresh = 300\n",
    "\n",
    "# Movie M = ???\n",
    "\n",
    "for i in range(26, crop.shape[0]):\n",
    "    slice_img = crop[i, :, :]\n",
    "    test = segments(slice_img, 300)\n",
    "    ## Movie M.AddFrame??(test)\n",
    "    \n",
    "    ## Debug code delete it\n",
    "    if i == 26:\n",
    "        plt.figure()\n",
    "        plt.imshow(test)\n",
    "        break\n",
    "    #####\n",
    "    \n",
    "    "
   ]
  },
  {
   "cell_type": "code",
   "execution_count": null,
   "metadata": {},
   "outputs": [],
   "source": []
  }
 ],
 "metadata": {
  "kernelspec": {
   "display_name": "Python 3",
   "language": "python",
   "name": "python3"
  },
  "language_info": {
   "codemirror_mode": {
    "name": "ipython",
    "version": 3
   },
   "file_extension": ".py",
   "mimetype": "text/x-python",
   "name": "python",
   "nbconvert_exporter": "python",
   "pygments_lexer": "ipython3",
   "version": "3.8.5"
  }
 },
 "nbformat": 4,
 "nbformat_minor": 4
}
