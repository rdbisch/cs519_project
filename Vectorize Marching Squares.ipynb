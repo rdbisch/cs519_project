{
 "cells": [
  {
   "cell_type": "code",
   "execution_count": 3,
   "metadata": {},
   "outputs": [
    {
     "name": "stderr",
     "output_type": "stream",
     "text": [
      "/home/rdbisch/UofI/CS519/project/cs519_venv/lib/python3.8/site-packages/bids/layout/models.py:148: FutureWarning: The 'extension' entity currently excludes the leading dot ('.'). As of version 0.14.0, it will include the leading dot. To suppress this warning and include the leading dot, use `bids.config.set_option('extension_initial_dot', True)`.\n",
      "  warnings.warn(\"The 'extension' entity currently excludes the leading dot ('.'). \"\n"
     ]
    }
   ],
   "source": [
    "from bids import BIDSLayout\n",
    "layout = BIDSLayout(\"ds000253_R1.0.0\")\n",
    "import random\n",
    "import pylab as plt\n",
    "import numpy as np\n",
    "from matplotlib.widgets import Button\n",
    "from matplotlib.colors import ListedColormap, LinearSegmentedColormap\n",
    "#%matplotlib notebook\n",
    "%matplotlib inline"
   ]
  },
  {
   "cell_type": "code",
   "execution_count": 4,
   "metadata": {},
   "outputs": [
    {
     "name": "stdout",
     "output_type": "stream",
     "text": [
      "There are 153 files in the layout.\n",
      "\n",
      "The first 10 files are:\n"
     ]
    },
    {
     "data": {
      "text/plain": [
       "[<BIDSFile filename='/home/rdbisch/UofI/CS519/project/ds000253_R1.0.0/CHANGES'>,\n",
       " <BIDSJSONFile filename='/home/rdbisch/UofI/CS519/project/ds000253_R1.0.0/dataset_description.json'>,\n",
       " <BIDSDataFile filename='/home/rdbisch/UofI/CS519/project/ds000253_R1.0.0/participants.tsv'>,\n",
       " <BIDSFile filename='/home/rdbisch/UofI/CS519/project/ds000253_R1.0.0/README'>,\n",
       " <BIDSImageFile filename='/home/rdbisch/UofI/CS519/project/ds000253_R1.0.0/sub-01/anat/sub-01_T1w.nii.gz'>,\n",
       " <BIDSJSONFile filename='/home/rdbisch/UofI/CS519/project/ds000253_R1.0.0/sub-01/func/sub-01_task-localizer_bold.json'>,\n",
       " <BIDSImageFile filename='/home/rdbisch/UofI/CS519/project/ds000253_R1.0.0/sub-01/func/sub-01_task-localizer_bold.nii.gz'>,\n",
       " <BIDSDataFile filename='/home/rdbisch/UofI/CS519/project/ds000253_R1.0.0/sub-01/func/sub-01_task-localizer_events.tsv'>,\n",
       " <BIDSJSONFile filename='/home/rdbisch/UofI/CS519/project/ds000253_R1.0.0/sub-01/func/sub-01_task-run1_bold.json'>,\n",
       " <BIDSImageFile filename='/home/rdbisch/UofI/CS519/project/ds000253_R1.0.0/sub-01/func/sub-01_task-run1_bold.nii.gz'>]"
      ]
     },
     "execution_count": 4,
     "metadata": {},
     "output_type": "execute_result"
    }
   ],
   "source": [
    "all_files = layout.get()\n",
    "print(\"There are {} files in the layout.\".format(len(all_files)))\n",
    "print(\"\\nThe first 10 files are:\")\n",
    "all_files[:10]"
   ]
  },
  {
   "cell_type": "code",
   "execution_count": null,
   "metadata": {},
   "outputs": [],
   "source": []
  },
  {
   "cell_type": "code",
   "execution_count": 5,
   "metadata": {},
   "outputs": [
    {
     "data": {
      "text/plain": [
       "<BIDSImageFile filename='/home/rdbisch/UofI/CS519/project/ds000253_R1.0.0/sub-01/anat/sub-01_T1w.nii.gz'>"
      ]
     },
     "execution_count": 5,
     "metadata": {},
     "output_type": "execute_result"
    }
   ],
   "source": [
    "bf = layout.get()[4]\n",
    "bf"
   ]
  },
  {
   "cell_type": "code",
   "execution_count": 6,
   "metadata": {},
   "outputs": [
    {
     "data": {
      "text/plain": [
       "{'datatype': 'anat', 'extension': 'nii.gz', 'subject': '01', 'suffix': 'T1w'}"
      ]
     },
     "execution_count": 6,
     "metadata": {},
     "output_type": "execute_result"
    }
   ],
   "source": [
    "bf.get_entities()"
   ]
  },
  {
   "cell_type": "code",
   "execution_count": 7,
   "metadata": {},
   "outputs": [],
   "source": [
    "test = bf.get_image()"
   ]
  },
  {
   "cell_type": "code",
   "execution_count": 8,
   "metadata": {},
   "outputs": [
    {
     "data": {
      "text/plain": [
       "(192, 256, 256)"
      ]
     },
     "execution_count": 8,
     "metadata": {},
     "output_type": "execute_result"
    }
   ],
   "source": [
    "test.shape"
   ]
  },
  {
   "cell_type": "code",
   "execution_count": 9,
   "metadata": {},
   "outputs": [
    {
     "name": "stdout",
     "output_type": "stream",
     "text": [
      "<class 'nibabel.nifti1.Nifti1Image'>\n",
      "data shape (192, 256, 256)\n",
      "affine: \n",
      "[[ 9.99847531e-01 -4.39310540e-03 -1.57607142e-02 -9.63154984e+01]\n",
      " [ 1.04716364e-02  8.73462439e-01  3.40401649e-01 -7.98037872e+01]\n",
      " [ 1.39616346e-02 -3.40514839e-01  8.73375356e-01 -7.85818481e+01]\n",
      " [ 0.00000000e+00  0.00000000e+00  0.00000000e+00  1.00000000e+00]]\n",
      "metadata:\n",
      "<class 'nibabel.nifti1.Nifti1Header'> object, endian='<'\n",
      "sizeof_hdr      : 348\n",
      "data_type       : b''\n",
      "db_name         : b''\n",
      "extents         : 0\n",
      "session_error   : 0\n",
      "regular         : b''\n",
      "dim_info        : 0\n",
      "dim             : [  3 192 256 256   1   1   1   1]\n",
      "intent_p1       : 0.0\n",
      "intent_p2       : 0.0\n",
      "intent_p3       : 0.0\n",
      "intent_code     : none\n",
      "datatype        : float32\n",
      "bitpix          : 32\n",
      "slice_start     : 0\n",
      "pixdim          : [1.        0.9999998 0.9375    0.9375    1.9       1.        1.\n",
      " 1.       ]\n",
      "vox_offset      : 0.0\n",
      "scl_slope       : nan\n",
      "scl_inter       : nan\n",
      "slice_end       : 0\n",
      "slice_code      : unknown\n",
      "xyzt_units      : 10\n",
      "cal_max         : 0.0\n",
      "cal_min         : 0.0\n",
      "slice_duration  : 0.0\n",
      "toffset         : 0.0\n",
      "glmax           : 0\n",
      "glmin           : 0\n",
      "descrip         : b'FreeSurfer Jan 19 2017'\n",
      "aux_file        : b''\n",
      "qform_code      : scanner\n",
      "sform_code      : scanner\n",
      "quatern_b       : -0.1847661\n",
      "quatern_c       : -0.007828354\n",
      "quatern_d       : 0.0038559434\n",
      "qoffset_x       : -96.3155\n",
      "qoffset_y       : -79.80379\n",
      "qoffset_z       : -78.58185\n",
      "srow_x          : [ 9.9984753e-01 -4.3931054e-03 -1.5760714e-02 -9.6315498e+01]\n",
      "srow_y          : [ 1.0471636e-02  8.7346244e-01  3.4040165e-01 -7.9803787e+01]\n",
      "srow_z          : [ 1.3961635e-02 -3.4051484e-01  8.7337536e-01 -7.8581848e+01]\n",
      "intent_name     : b''\n",
      "magic           : b'n+1'\n"
     ]
    }
   ],
   "source": [
    "print(test)"
   ]
  },
  {
   "cell_type": "code",
   "execution_count": 10,
   "metadata": {},
   "outputs": [],
   "source": [
    "test_fdata = test.get_fdata()"
   ]
  },
  {
   "cell_type": "code",
   "execution_count": 11,
   "metadata": {},
   "outputs": [
    {
     "data": {
      "text/plain": [
       "array([ 1.,  8.,  5.,  5.,  9.,  2.,  5.,  6., 12., 11.,  5., 10.,  5.,\n",
       "        6., 11., 12.,  2.,  1.,  4.,  2., 12.,  1., 14.,  5., 11., 13.,\n",
       "       16., 10.,  6.,  4.,  6.,  3., 11.,  2.,  4.,  6.,  5.,  1.,  3.,\n",
       "        3.,  1.,  2.,  5.,  5.,  2.,  6.,  6.,  7.,  4.,  5.,  1.,  3.,\n",
       "        3.,  1.,  5.,  2.,  1.,  4.,  4.,  5.,  0.,  1.,  0.,  3.,  1.,\n",
       "        2.,  3.,  1.,  0.,  1.,  4.,  1.,  2.,  1.,  4.,  0.,  4.,  2.,\n",
       "        3.,  1.,  3.,  2.,  3.,  4.,  4.,  3.,  2.,  2.,  0.,  1.,  2.,\n",
       "        0.,  2.,  4.,  1.,  4.,  2.,  1.,  1.,  0.,  2.,  1.,  4.,  1.,\n",
       "        2.,  0.,  1.,  2.,  3.,  2.,  2.,  2.,  1.,  0.,  2.,  1.,  3.,\n",
       "        2.,  2.,  0.,  0.,  2.,  1.,  2.,  2.,  1.,  0.,  1.,  0.,  3.,\n",
       "        1.,  2.,  1.,  2.,  0.,  3.,  4.,  2.,  0.,  2.,  3.,  3.,  2.,\n",
       "        1.,  3.,  0.,  2.,  4.,  4.,  1.,  3.,  1.,  0.,  1.,  1.,  0.,\n",
       "        1.,  0.,  0.,  0.,  2.,  1.,  1.,  2.,  2.,  1.,  1.,  4.,  0.,\n",
       "        1.,  2.,  2.,  1.,  2.,  3.,  2.,  2.,  3.,  2.,  3.,  4.,  1.,\n",
       "        1.,  2.,  2.,  3.,  5.,  4.,  1.,  3.,  1.,  0.,  0.,  1.,  0.,\n",
       "        4.,  2.,  1.,  3.,  3.,  1.,  1.,  1.,  2.,  0.,  3.,  1.,  0.,\n",
       "        2.,  1.,  0.,  2.,  3.,  4.,  1.,  1.,  1.,  1.,  2.,  3.,  0.,\n",
       "        1.,  2.,  1.,  0.,  1.,  1.,  1.,  1.,  0.,  2.,  1.,  1.,  1.,\n",
       "        2.,  2.,  2.,  0.,  1.,  2.,  0.,  3.,  0.,  3.,  1.,  1.,  1.,\n",
       "        2.,  0.,  1.,  1.,  0.,  2.,  0.,  2.,  0.])"
      ]
     },
     "execution_count": 11,
     "metadata": {},
     "output_type": "execute_result"
    }
   ],
   "source": [
    "test_fdata.shape\n",
    "slice_0 = test_fdata[26, :, :]\n",
    "slice_0.shape\n",
    "slice_0[1]"
   ]
  },
  {
   "cell_type": "code",
   "execution_count": 12,
   "metadata": {},
   "outputs": [
    {
     "data": {
      "text/plain": [
       "Text(0.5, 0.98, 'Center slices for EPI image')"
      ]
     },
     "execution_count": 12,
     "metadata": {},
     "output_type": "execute_result"
    },
    {
     "data": {
      "image/png": "[encoded data removed]",
      "text/plain": [
       "<Figure size 432x288 with 3 Axes>"
      ]
     },
     "metadata": {
      "needs_background": "light"
     },
     "output_type": "display_data"
    }
   ],
   "source": [
    "import matplotlib.pyplot as plt\n",
    "def show_slices(slices):\n",
    "    \"\"\" Function to display row of image slices \"\"\"\n",
    "    fig, axes = plt.subplots(1, len(slices))\n",
    "    for i, slice in enumerate(slices):\n",
    "        axes[i].imshow(slice.T, cmap=\"gray\", origin=\"lower\")\n",
    "\n",
    "test_fdata = test.get_fdata()\n",
    "slice_0 = test_fdata[26, :, :]\n",
    "slice_1 = test_fdata[:, 30, :]\n",
    "slice_2 = test_fdata[:, :, 16]\n",
    "show_slices([slice_0, slice_1, slice_2])\n",
    "plt.suptitle(\"Center slices for EPI image\")"
   ]
  },
  {
   "cell_type": "code",
   "execution_count": 13,
   "metadata": {},
   "outputs": [],
   "source": [
    "### KEEP\n",
    "\n",
    "def getContourCase(top,left,thres,cells):\n",
    "    if (top + 1 > cells.shape[0] - 1): return 0\n",
    "    if (left + 1 > cells.shape[1] - 1): return 0\n",
    "    result = 0\n",
    "    if (cells[top    , left] >= thresh): result += 8\n",
    "    if (cells[top    , left + 1] >= thresh): result += 4\n",
    "    if (cells[top + 1, left + 1] >= thresh): result += 2\n",
    "    if (cells[top + 1, left] >= thresh): result += 1\n",
    "    return result\n",
    "    "
   ]
  },
  {
   "cell_type": "code",
   "execution_count": 14,
   "metadata": {},
   "outputs": [],
   "source": [
    "### KEEP\n",
    "\n",
    "def disambiguateSaddle(top,left,thres,cells):\n",
    "    a = cells[top,left]\n",
    "    b = cells[top,left+1]\n",
    "    c = cells[top+1,left+1]\n",
    "    d = cells[top+1, left]\n",
    "    \n",
    "    avg = (a+b+c+d)/4\n",
    "    return (avg >= thresh)"
   ]
  },
  {
   "cell_type": "code",
   "execution_count": 15,
   "metadata": {},
   "outputs": [],
   "source": [
    "### KEEP\n",
    "\n",
    "def interpolate(v1,v2,t):\n",
    "    return (t - v1)/(v2-v1)"
   ]
  },
  {
   "cell_type": "code",
   "execution_count": 16,
   "metadata": {},
   "outputs": [],
   "source": [
    "### KEEP\n",
    "\n",
    "def getCellSegments(top,left,thres,cells):\n",
    "    \n",
    "    case = getContourCase(top,left,thres,cells)\n",
    "    result = []\n",
    "    if(case == 0 or case == 15):\n",
    "        result = []\n",
    "        \n",
    "    elif(case == 1 or case == 14): \n",
    "        value1 = cells[top,left]\n",
    "        value2 = cells[top+1,left]\n",
    "        value3 = cells[top+1, left]\n",
    "        value4 = cells[top+1, left+1]\n",
    "        point1 = interpolate(value1,value2,thres)\n",
    "        point2 = interpolate(value3,value4,thres)\n",
    "        result = [[(left,top+point1),(left+point2,top+1)]]\n",
    "        \n",
    "    elif(case == 2 or case == 13):\n",
    "        value1 = cells[top+1,left]\n",
    "        value2 = cells[top+1,left+1]\n",
    "        value3 = cells[top, left+1]\n",
    "        value4 = cells[top+1, left+1]\n",
    "        point1 = interpolate(value1,value2,thres)\n",
    "        point2 = interpolate(value3,value4,thres)\n",
    "        result = [[(left+point1,top+1),(left+1,top+point2)]]\n",
    "    \n",
    "    elif(case == 3 or case == 12):\n",
    "        value1 = cells[top,left]\n",
    "        value2 = cells[top+1,left]\n",
    "        value3 = cells[top, left+1]\n",
    "        value4 = cells[top+1, left+1]\n",
    "        point1 = interpolate(value1,value2,thres)\n",
    "        point2 = interpolate(value3,value4,thres)\n",
    "        result = [[(left,top+point1),(left+1,top+point2)]]\n",
    "\n",
    "    elif(case == 4 or case == 11):\n",
    "        value1 = cells[top,left]\n",
    "        value2 = cells[top,left+1]\n",
    "        value3 = cells[top, left+1]\n",
    "        value4 = cells[top+1, left+1]\n",
    "        point1 = interpolate(value1,value2,thres)\n",
    "        point2 = interpolate(value3,value4,thres)\n",
    "        result = [[(left+point1,top),(left+1,top+point2)]]\n",
    "\n",
    "    elif(case == 5):\n",
    "        #line1\n",
    "        value1 = cells[top,left]\n",
    "        value2 = cells[top+1,left]\n",
    "        value3 = cells[top, left]\n",
    "        value4 = cells[top, left+1]\n",
    "        point1 = interpolate(value1,value2,thres)\n",
    "        point2 = interpolate(value3,value4,thres)\n",
    "        line1 = [(left,top+point1),(left+point2,top)]\n",
    "        \n",
    "        #line2\n",
    "        value1 = cells[top+1,left]\n",
    "        value2 = cells[top+1,left+1]\n",
    "        value3 = cells[top, left+1]\n",
    "        value4 = cells[top+1, left+1]\n",
    "        point1 = interpolate(value1,value2,thres)\n",
    "        point2 = interpolate(value3,value4,thres)\n",
    "        line2 = [(left+point1,top+1),(left+1,top+point2)]\n",
    "        results = [line1, line2]\n",
    "\n",
    "    elif(case == 6 or case == 9):\n",
    "        value1 = cells[top,left]\n",
    "        value2 = cells[top,left+1]\n",
    "        value3 = cells[top+1, left]\n",
    "        value4 = cells[top+1, left+1]\n",
    "        point1 = interpolate(value1,value2,thres)\n",
    "        point2 = interpolate(value3,value4,thres)\n",
    "        result = [[(left+point1,top),(left+point2,top+1)]]\n",
    "    \n",
    "    elif(case == 7 or case == 8):\n",
    "        value1 = cells[top,left]\n",
    "        value2 = cells[top+1,left]\n",
    "        value3 = cells[top, left]\n",
    "        value4 = cells[top, left+1]\n",
    "        point1 = interpolate(value1,value2,thres)\n",
    "        point2 = interpolate(value3,value4,thres)\n",
    "        result = [[(left,top+point1),(left+point2,top)]]\n",
    "        \n",
    "    elif(case == 10):\n",
    "        #line1\n",
    "        value1 = cells[top,left]\n",
    "        value2 = cells[top+1,left]\n",
    "        value3 = cells[top+1, left]\n",
    "        value4 = cells[top+1, left+1]\n",
    "        point1 = interpolate(value1,value2,thres)\n",
    "        point2 = interpolate(value3,value4,thres)\n",
    "        line1 = [(left,top+point1),(left+point2,top+1)]\n",
    "        \n",
    "        value1 = cells[top,left]\n",
    "        value2 = cells[top,left+1]\n",
    "        value3 = cells[top, left+1]\n",
    "        value4 = cells[top+1, left+1]\n",
    "        point1 = interpolate(value1,value2,thres)\n",
    "        point2 = interpolate(value3,value4,thres)\n",
    "        line2 = [(left+point1,top),(left+1,top+point2)]\n",
    "        \n",
    "        results = [line1,line2]\n",
    "        \n",
    "    else:\n",
    "        return 0\n",
    "    \n",
    "    return result\n",
    "              "
   ]
  },
  {
   "cell_type": "code",
   "execution_count": 17,
   "metadata": {},
   "outputs": [],
   "source": [
    "# keep\n",
    "\n",
    "def getContourSegments(thres,cells):\n",
    "    rows = len(cells)\n",
    "    cols = len(cells[0])\n",
    "    top = 0\n",
    "    left = 0\n",
    "    final = []\n",
    "    \n",
    "    while (left < cols):\n",
    "        while(top < rows):\n",
    "            result = getCellSegments(top, left, thres, cells)\n",
    "            final.extend(result)\n",
    "            top = top + 1\n",
    "        left = left + 1\n",
    "        top = 0\n",
    " \n",
    "    return final"
   ]
  },
  {
   "cell_type": "markdown",
   "metadata": {},
   "source": [
    "# Barebones Marching Square Ahead\n",
    "First you need to install some more libraries maybe.  Run the next two pip installs."
   ]
  },
  {
   "cell_type": "code",
   "execution_count": 18,
   "metadata": {},
   "outputs": [
    {
     "name": "stdout",
     "output_type": "stream",
     "text": [
      "Requirement already satisfied: opencv-python in ./cs519_venv/lib/python3.8/site-packages (4.4.0.46)\r\n",
      "Requirement already satisfied: numpy>=1.17.3 in ./cs519_venv/lib/python3.8/site-packages (from opencv-python) (1.19.4)\r\n"
     ]
    }
   ],
   "source": [
    "!pip install opencv-python"
   ]
  },
  {
   "cell_type": "code",
   "execution_count": 19,
   "metadata": {},
   "outputs": [
    {
     "name": "stdout",
     "output_type": "stream",
     "text": [
      "Requirement already satisfied: requests in ./cs519_venv/lib/python3.8/site-packages (2.25.0)\n",
      "Requirement already satisfied: urllib3<1.27,>=1.21.1 in ./cs519_venv/lib/python3.8/site-packages (from requests) (1.26.2)\n",
      "Requirement already satisfied: chardet<4,>=3.0.2 in ./cs519_venv/lib/python3.8/site-packages (from requests) (3.0.4)\n",
      "Requirement already satisfied: idna<3,>=2.5 in ./cs519_venv/lib/python3.8/site-packages (from requests) (2.10)\n",
      "Requirement already satisfied: certifi>=2017.4.17 in ./cs519_venv/lib/python3.8/site-packages (from requests) (2020.11.8)\n"
     ]
    }
   ],
   "source": [
    "!pip install requests"
   ]
  },
  {
   "cell_type": "markdown",
   "metadata": {},
   "source": [
    "# Stripped Down Marching Squares Ahead\n",
    "Returns a 3-channel numpy array, which is the image plus the isoline drawn at thresh"
   ]
  },
  {
   "cell_type": "code",
   "execution_count": 22,
   "metadata": {},
   "outputs": [],
   "source": [
    "# https://stackoverflow.com/questions/15713279/calling-pylab-savefig-without-display-in-ipython\n",
    "# https://stackoverflow.com/questions/8598673/how-to-save-a-pylab-figure-into-in-memory-file-which-can-be-read-into-pil-image\n",
    "# https://stackoverflow.com/questions/54160208/how-to-use-opencv-in-python3-to-read-file-from-file-buffer\n",
    "\n",
    "import io\n",
    "import cv2\n",
    "import matplotlib.pyplot as plt\n",
    "import io, requests, cv2, numpy as np\n",
    "\n",
    "def segments(image, thresh):\n",
    "    plt.ioff()\n",
    "\n",
    "    # MATPLOTLIB BOILERPLATE TO SETUP DRAWING\n",
    "    # #########################################\n",
    "    fig, axes = plt.subplots(figsize = (8, 8))\n",
    "    axes.set_aspect('equal')               # I have no idea \n",
    "    plt.subplots_adjust(bottom = 0.2)      # ditto\n",
    "    axes.clear()\n",
    "    axes.set_yticks([])\n",
    "    axes.set_xticks([])\n",
    "    axes.set_yticklabels([])\n",
    "    axes.set_xticklabels([])\n",
    "    axes.invert_yaxis()\n",
    "    axes.imshow(image)\n",
    "    fig.canvas.draw()\n",
    "    # #######################################\n",
    "    # END MATPLOTLIB BOILERPLATE\n",
    "    # #######################################\n",
    "\n",
    "    segments = getContourSegments(thresh,image)\n",
    "    for s in segments:\n",
    "        x1 = (0.5+s[0][0])\n",
    "        x2 = (0.5+s[1][0])\n",
    "        y1 = (0.5+s[0][1])\n",
    "        y2 = (0.5+s[1][1])\n",
    "        axes.plot([x1,x2], [y1,y2], color='white', linestyle='-', linewidth=1)\n",
    "        \n",
    "    buf = io.BytesIO()\n",
    "    plt.savefig(buf, format = 'png')\n",
    "    buf.seek(0)\n",
    "    img = cv2.imdecode(np.frombuffer(buf.read(), np.uint8), 1)\n",
    "    img = cv2.cvtColor(img, cv2.COLOR_BGR2RGB)\n",
    "    plt.close(fig)\n",
    "    plt.ion()\n",
    "    return img"
   ]
  },
  {
   "cell_type": "code",
   "execution_count": 28,
   "metadata": {
    "scrolled": false
   },
   "outputs": [
    {
     "name": "stdout",
     "output_type": "stream",
     "text": [
      "Frame i=0 @ thresh=300 took 0.248 seconds 0.248 elapsed total\n",
      "Frame i=10 @ thresh=300 took 0.239 seconds 2.687 elapsed total\n",
      "Frame i=20 @ thresh=300 took 0.225 seconds 5.241 elapsed total\n",
      "Frame i=30 @ thresh=300 took 0.604 seconds 9.897 elapsed total\n",
      "Frame i=40 @ thresh=300 took 0.791 seconds 17.889 elapsed total\n",
      "Frame i=50 @ thresh=300 took 0.836 seconds 25.537 elapsed total\n",
      "Frame i=60 @ thresh=300 took 1.039 seconds 35.469 elapsed total\n",
      "Frame i=70 @ thresh=300 took 1.094 seconds 45.844 elapsed total\n",
      "Frame i=80 @ thresh=300 took 1.547 seconds 59.972 elapsed total\n",
      "Frame i=90 @ thresh=300 took 1.567 seconds 75.700 elapsed total\n",
      "Frame i=100 @ thresh=300 took 1.482 seconds 89.776 elapsed total\n",
      "Frame i=110 @ thresh=300 took 1.427 seconds 103.558 elapsed total\n",
      "Frame i=120 @ thresh=300 took 1.110 seconds 116.076 elapsed total\n",
      "Frame i=130 @ thresh=300 took 1.078 seconds 126.992 elapsed total\n",
      "Frame i=140 @ thresh=300 took 0.947 seconds 137.983 elapsed total\n",
      "Frame i=150 @ thresh=300 took 0.674 seconds 145.947 elapsed total\n",
      "Frame i=160 @ thresh=300 took 0.727 seconds 153.277 elapsed total\n",
      "Frame i=170 @ thresh=300 took 0.249 seconds 158.254 elapsed total\n",
      "Frame i=180 @ thresh=300 took 0.226 seconds 160.584 elapsed total\n",
      "Frame i=190 @ thresh=300 took 0.231 seconds 163.017 elapsed total\n",
      "Total execution took 163.257 seconds.  Frame average 0.850 seconds variance 0.441\n"
     ]
    }
   ],
   "source": [
    "# I manually figured these points out\n",
    "crop = test_fdata[:, 75:150, 65:170]\n",
    "\n",
    "thresh = 300\n",
    "frames = test_fdata.shape[0]\n",
    "\n",
    "timing_x = 0\n",
    "timing_xx = 0\n",
    "\n",
    "import time\n",
    "#time.perf_counter()\n",
    "#32311.48899951\n",
    "#>>> time.perf_counter()  # A few seconds later\n",
    "#32315.261320793\n",
    "\n",
    "start_t = time.perf_counter()\n",
    "out = cv2.VideoWriter('project.avi', cv2.VideoWriter_fourcc(*'DIVX'), 15, (576, 576))\n",
    "for i in range(frames):\n",
    "    start_f = time.perf_counter()\n",
    "    out.write( segments(test_fdata[i], thresh) )\n",
    "    stop_f = time.perf_counter()\n",
    "    frame_t = stop_f - start_f\n",
    "    if i % 10 == 0: print(\"Frame i={0} @ thresh={1} took {2:5.3f} seconds {3:5.3f} elapsed total\".format(i, thresh, frame_t, stop_f - start_t))\n",
    "    timing_x += frame_t\n",
    "    timing_xx += frame_t*frame_t\n",
    "out.release()\n",
    "stop_t = time.perf_counter()\n",
    "total_t = stop_t - start_t\n",
    "mean_f = timing_x / frames\n",
    "std_f = np.sqrt((timing_xx / frames) - mean_f*mean_f)\n",
    "          \n",
    "print(\"Total execution took {0:5.3f} seconds.  Frame average {1:5.3f} seconds variance {2:5.3f}\".format(total_t, mean_f, std_f))"
   ]
  },
  {
   "cell_type": "markdown",
   "metadata": {},
   "source": [
    "# Vectorized Marching Squares and Performance\n",
    "It was feared that the homework-submitted version of Marching Squares was too slow. Further we wanted to use this to process videos and maybe some day serve an interactive use.    We spent some time figuring out how to make the code faster and more conducive to these activities.\n",
    "\n",
    "The first optimization was to rewrite portions of the Marching Squares implementation to operate all at once.  That is, rather than going pixel by pixel in the image to determine case, we could use Numpy-Arrays to do it in one fell swoop.   \n",
    "\n",
    "| Function Name | Homework Version | Vectorized Version for Project | Speedup (x) |\n",
    "| --- | --- | --- | --- |\n",
    "| getContourCase | 0.106 | 0.001 | 104.092 |\n",
    "| getCellSegments | 0.110 | 0.035 | 3.148 |\n",
    "\n",
    "The 2nd optimization was to rewrite the graphics rendering of the isolines themselves.  The original code used matplotlib and was quite slow.  One example took 163 seconds to process the video, for an average of 0.850 seconds per frame.  We rewrote the code using OpenCV2 and our own rasterization routines.  These aren't as general purpose as Matplotlib's but most of that functionality is not needed for this.    With this optimization, the same video took 40 seconds for an average of 0.206 seconds per frame.    \n",
    "\n",
    "The overall speedup was approximately 4x.  Further optimizations could be acheived that are relatively straightforward.  We could trace out isolines and have them represented internally as polygons instead of cell-segments.   It is also possible to realize some speed-ups by doing rasterization at the same time as isoline generation.   This would only make sense to do if you are purely using the isolines as a visual diagnosis tool rather than as an input feature for automatic classification."
   ]
  },
  {
   "cell_type": "markdown",
   "metadata": {},
   "source": [
    "With new countour case.\n",
    "Total execution took 158.377 seconds.  Frame average 0.825 seconds variance 0.444"
   ]
  },
  {
   "cell_type": "code",
   "execution_count": 68,
   "metadata": {},
   "outputs": [],
   "source": [
    "def vec_getContourCase(thres, cells):\n",
    "    H, W = cells.shape\n",
    "\n",
    "    result = np.zeros((cells.shape), 'int')\n",
    "    mask = (cells >= thresh).astype('int')\n",
    "\n",
    "    # Now mask[i, j] = 1 if cells[i, j] >= thresh\n",
    "    # We will create three more masks\n",
    "        # MaskS[i, j] = 1 if cells[i + 1, j] >= thresh\n",
    "        # MaskE[i, j] = 1 if cells[i   , j + 1] >= thresh\n",
    "        # MaskSE[i, j] = 1 if cells[i + 1, j + 1] >= thresh\n",
    "\n",
    "    MaskS = np.zeros(mask.shape, mask.dtype)\n",
    "    MaskE = np.zeros(mask.shape, mask.dtype)\n",
    "    MaskSE = np.zeros(mask.shape, mask.dtype)\n",
    "    MaskS[0:H-1] = mask[1:H,]\n",
    "    MaskE[:, 0:W-1] = mask[:, 1:W]\n",
    "    MaskSE[0:H-1, 0:W-1] = mask[1:H, 1:W]\n",
    "\n",
    "    result = 8*mask + 4*MaskE + 2*MaskSE + MaskS\n",
    "    return result"
   ]
  },
  {
   "cell_type": "markdown",
   "metadata": {},
   "source": [
    "### Test Code for Vectorized GetCountourCase"
   ]
  },
  {
   "cell_type": "code",
   "execution_count": 69,
   "metadata": {},
   "outputs": [
    {
     "name": "stdout",
     "output_type": "stream",
     "text": [
      "getContourCase - vector 0.001 iterative 0.106 relative 104.092\n",
      "matches 65536 out of 65536\n"
     ]
    }
   ],
   "source": [
    "stop_running = False\n",
    "\n",
    "start_t = time.perf_counter()\n",
    "result = vec_getContourCase(300, test_img)\n",
    "stop_t = time.perf_counter()\n",
    "vec_t = stop_t - start_t\n",
    "\n",
    "start_t = time.perf_counter()\n",
    "match = np.zeros(result.shape, 'int')\n",
    "for i in range(H):\n",
    "    for j in range(W):\n",
    "        match[i, j] = getContourCase(i, j, 300, test_img)\n",
    "\n",
    "        #if result[i, j] != s:\n",
    "        #    print(\"Disagreement at cell {0} vec = {1} s = {2}\".format((i, j), result[i, j], s))\n",
    "        #    stop_running = True\n",
    "    \n",
    "        #if stop_running: break\n",
    "    #if stop_running: break\n",
    "stop_t = time.perf_counter()\n",
    "iter_t = stop_t - start_t\n",
    "\n",
    "# If nothing printed out, 100% match to old version\n",
    "print(\"getContourCase - vector {0:5.3f} iterative {1:5.3f} relative {2:5.3f}\".format(vec_t, iter_t, iter_t/vec_t))\n",
    "print(\"matches {0} out of {1}\".format(np.sum(match == result), result.shape[0]*result.shape[1]))"
   ]
  },
  {
   "cell_type": "code",
   "execution_count": 51,
   "metadata": {},
   "outputs": [
    {
     "data": {
      "text/plain": [
       "array([[274., 261.],\n",
       "       [284., 300.]])"
      ]
     },
     "execution_count": 51,
     "metadata": {},
     "output_type": "execute_result"
    }
   ],
   "source": [
    "cells[84:86, 121:123]"
   ]
  },
  {
   "cell_type": "code",
   "execution_count": 56,
   "metadata": {},
   "outputs": [
    {
     "data": {
      "text/plain": [
       "array([[1, 0],\n",
       "       [1, 1]])"
      ]
     },
     "execution_count": 56,
     "metadata": {},
     "output_type": "execute_result"
    }
   ],
   "source": [
    "\n",
    "MaskSE[84:86, 121:123]"
   ]
  },
  {
   "cell_type": "code",
   "execution_count": 476,
   "metadata": {},
   "outputs": [],
   "source": [
    "def vec_getCellSegments(thresh, cells):\n",
    "    # instead of iterating through each cell\n",
    "    #  and going through a series of if/else to test cases\n",
    "    #  we'll compute all 8 cases simulatanously and then \n",
    "    #  take the right result from each of the 8 cases\n",
    "\n",
    "    cases = vec_getContourCase(thres, cells)\n",
    "\n",
    "    # AFter this runs, \n",
    "    #  E[i, j] will contain the values of cells directy to the east of cells[i, j]\n",
    "    #   (ie cells[i, j + 1])\n",
    "    #  S[i, j] will contain directly to the south\n",
    "    #  SE[i, j] will contain directly to the southeast.\n",
    "    E = np.zeros(cells.shape)\n",
    "    S = np.zeros(cells.shape)\n",
    "    SE = np.zeros(cells.shape)\n",
    "    I, J = np.mgrid[0:H, 0:W]\n",
    "    E[:, 0:W-1] = cells[:, 1:W]\n",
    "    S[0:H-1, :] = cells[1:H]\n",
    "    SE[0:H-1, 0:W-1] = cells[1:H, 1:W]\n",
    "\n",
    "    # Next we interpolate across the 4 sides of the pixel\n",
    "    #  I_N_S is an interpolation between the N and S points\n",
    "    #  I_E_SE is an interpolation between the E and SE points\n",
    "    #  and so on\n",
    "    I_N_S  = I + interpolate(cells, S, thresh)\n",
    "    I_E_SE = I + interpolate(E, SE, thresh)\n",
    "    J_S_SE = J + interpolate(S, SE, thresh)\n",
    "    J_N_E  = J + interpolate(cells, E, thresh)\n",
    "\n",
    "    # We create a HxW vector that has all 8 possible line beginnings and ends\n",
    "    #  This is to just to make case handling clearer\n",
    "    all_p   = np.zeros((cells.shape[0], cells.shape[1], 8))\n",
    "    all_p[:, :, 0] = I\n",
    "    all_p[:, :, 1] = I + 1\n",
    "    all_p[:, :, 2] = I_N_S\n",
    "    all_p[:, :, 3] = I_E_SE\n",
    "\n",
    "    all_p[:, :, 4] = J\n",
    "    all_p[:, :, 5] = J + 1\n",
    "    all_p[:, :, 6] = J_N_E\n",
    "    all_p[:, :, 7] = J_S_SE\n",
    "\n",
    "    # These are placeholders--we will store the line segment for each cell in here\n",
    "    #   lines[i, j, :] = (y1, x1, y2, x2) corresponding to line segment (y1,x1)-(y2,x2)\n",
    "    # lines2 is overfill for case 5 and 10\n",
    "    lines   = np.zeros((cells.shape[0], cells.shape[1], 4))\n",
    "    lines2  = np.zeros((cells.shape[0], cells.shape[1], 4))\n",
    "\n",
    "    def helper2(lines, mask, i1, i2, i3, i4):\n",
    "        lines[mask, 0] = all_p[mask, i1]\n",
    "        lines[mask, 1] = all_p[mask, i2]\n",
    "        lines[mask, 2] = all_p[mask, i3]\n",
    "        lines[mask, 3] = all_p[mask, i4]\n",
    "\n",
    "    # Set the appropriate line start and stop based on the case\n",
    "    helper2(lines, np.logical_or(cases == 1, cases == 14), 2, 4, 1, 7)\n",
    "    helper2(lines, np.logical_or(cases == 2, cases == 13), 1, 7, 3, 5)\n",
    "    helper2(lines, np.logical_or(cases == 3, cases == 12), 2, 4, 3, 5)\n",
    "    helper2(lines, np.logical_or(cases == 4, cases == 11), 0, 6, 3, 5)\n",
    "    helper2(lines,               cases == 5              , 2, 4, 0, 6)\n",
    "    helper2(lines2,              cases == 5              , 1, 7, 3, 5)\n",
    "    helper2(lines, np.logical_or(cases == 6, cases ==  9), 0, 6, 1, 7)\n",
    "    helper2(lines, np.logical_or(cases == 7, cases ==  8), 2, 4, 0, 6)\n",
    "    helper2(lines,               cases == 10             , 2, 4, 1, 7)\n",
    "    helper2(lines2,              cases == 10             , 0, 6, 3, 5)\n",
    "\n",
    "    # Now we will just extract all the non-0 and non-15 cases\n",
    "    #   The original algorithm goes by top-left--which means that the cells in the right most column \n",
    "    #    and bottom most rows don't get skipped.   There is an adjustment ot N for that\n",
    "    mask = np.logical_and(I < H - 1, J < W - 1)\n",
    "    N = np.sum( np.logical_and(cases[mask] > 0, cases[mask] < 15) ) + \\\n",
    "        np.sum( np.logical_or(cases[mask] == 5, cases[mask] == 10) )\n",
    "    \n",
    "    result = np.zeros((N, 4))\n",
    "    \n",
    "    ctr = 0\n",
    "    for i in range(H - 1):\n",
    "        for j in range(W - 1):\n",
    "            if cases[i, j] == 0 or cases[i, j] == 15: continue\n",
    "            result[ctr] = lines[i, j]\n",
    "            ctr = ctr + 1\n",
    "            if cases[i, j] == 5 or cases[i, j] == 10:\n",
    "                result[ctr] = lines2[i, j]\n",
    "                \n",
    "                ctr = ctr + 1\n",
    "    return result"
   ]
  },
  {
   "cell_type": "code",
   "execution_count": 477,
   "metadata": {},
   "outputs": [
    {
     "name": "stdout",
     "output_type": "stream",
     "text": [
      "0.035\t0.110\t3.148\n"
     ]
    },
    {
     "name": "stderr",
     "output_type": "stream",
     "text": [
      "<ipython-input-227-42b59db10b79>:2: RuntimeWarning: divide by zero encountered in true_divide\n",
      "  return (t - v1)/(v2-v1)\n",
      "<ipython-input-227-42b59db10b79>:2: RuntimeWarning: invalid value encountered in true_divide\n",
      "  return (t - v1)/(v2-v1)\n"
     ]
    }
   ],
   "source": [
    "start_t =  time.perf_counter()\n",
    "test = vec_getCellSegments(300, cells)\n",
    "mid_t = time.perf_counter()\n",
    "check = getContourSegments(300,cells)\n",
    "stop_t = time.perf_counter()\n",
    "print(\"{0:5.3f}\\t{1:5.3f}\\t{2:5.3f}\".format(mid_t - start_t, stop_t - mid_t, (stop_t - mid_t) / (mid_t - start_t)))"
   ]
  },
  {
   "cell_type": "code",
   "execution_count": 479,
   "metadata": {},
   "outputs": [
    {
     "name": "stderr",
     "output_type": "stream",
     "text": [
      "<ipython-input-227-42b59db10b79>:2: RuntimeWarning: divide by zero encountered in true_divide\n",
      "  return (t - v1)/(v2-v1)\n",
      "<ipython-input-227-42b59db10b79>:2: RuntimeWarning: invalid value encountered in true_divide\n",
      "  return (t - v1)/(v2-v1)\n"
     ]
    },
    {
     "data": {
      "text/plain": [
       "<matplotlib.image.AxesImage at 0x7f1676cb6880>"
      ]
     },
     "execution_count": 479,
     "metadata": {},
     "output_type": "execute_result"
    },
    {
     "data": {
      "image/png": "[encoded data removed]",
      "text/plain": [
       "<Figure size 432x288 with 1 Axes>"
      ]
     },
     "metadata": {
      "needs_background": "light"
     },
     "output_type": "display_data"
    }
   ],
   "source": [
    "def rasterize(image, thresh, scale = 10):\n",
    "    # convert image to grayscale first\n",
    "    result = np.zeros((image.shape[0], image.shape[1], 3), 'float32')\n",
    "    for c in range(3):\n",
    "        result[:, :, c] = image / np.max(image)\n",
    "        \n",
    "    result = cv2.resize(result, (image.shape[1]*scale, image.shape[0]*scale))\n",
    "    result = result / np.max(result)\n",
    "    seg = vec_getCellSegments(thresh, image)\n",
    "    r2 = result.copy()\n",
    "    seg = (seg * scale).astype('int32')\n",
    "    for y1, x1, y2, x2 in seg:\n",
    "        r2 = cv2.line(r2, (x1, y1), (x2, y2), color = (1, 1, 1), thickness = scale)\n",
    "    return (r2*255).astype('uint8')\n",
    "\n",
    "plt.imshow(rasterize(test_fdata[26], 300))"
   ]
  },
  {
   "cell_type": "code",
   "execution_count": 480,
   "metadata": {},
   "outputs": [
    {
     "name": "stderr",
     "output_type": "stream",
     "text": [
      "<ipython-input-227-42b59db10b79>:2: RuntimeWarning: divide by zero encountered in true_divide\n",
      "  return (t - v1)/(v2-v1)\n",
      "<ipython-input-227-42b59db10b79>:2: RuntimeWarning: invalid value encountered in true_divide\n",
      "  return (t - v1)/(v2-v1)\n"
     ]
    }
   ],
   "source": [
    "test = rasterize(test_fdata[26], 300)"
   ]
  },
  {
   "cell_type": "code",
   "execution_count": 481,
   "metadata": {},
   "outputs": [
    {
     "data": {
      "text/plain": [
       "<matplotlib.image.AxesImage at 0x7f1677518670>"
      ]
     },
     "execution_count": 481,
     "metadata": {},
     "output_type": "execute_result"
    },
    {
     "data": {
      "image/png": "[encoded data removed]",
      "text/plain": [
       "<Figure size 432x288 with 1 Axes>"
      ]
     },
     "metadata": {
      "needs_background": "light"
     },
     "output_type": "display_data"
    }
   ],
   "source": [
    "plt.imshow(test[:,:,2])"
   ]
  },
  {
   "cell_type": "code",
   "execution_count": 482,
   "metadata": {},
   "outputs": [
    {
     "data": {
      "text/plain": [
       "(2560, 2560, 3)"
      ]
     },
     "execution_count": 482,
     "metadata": {},
     "output_type": "execute_result"
    }
   ],
   "source": [
    "test.shape"
   ]
  },
  {
   "cell_type": "code",
   "execution_count": 397,
   "metadata": {},
   "outputs": [],
   "source": [
    "# https://stackoverflow.com/questions/15713279/calling-pylab-savefig-without-display-in-ipython\n",
    "# https://stackoverflow.com/questions/8598673/how-to-save-a-pylab-figure-into-in-memory-file-which-can-be-read-into-pil-image\n",
    "# https://stackoverflow.com/questions/54160208/how-to-use-opencv-in-python3-to-read-file-from-file-buffer\n",
    "\n",
    "import io\n",
    "import cv2\n",
    "import matplotlib.pyplot as plt\n",
    "import io, requests, cv2, numpy as np\n",
    "\n",
    "def vec_segments(image, thresh):\n",
    "    plt.ioff()\n",
    "\n",
    "    # MATPLOTLIB BOILERPLATE TO SETUP DRAWING\n",
    "    # #########################################\n",
    "    fig, axes = plt.subplots(figsize = (8, 8))\n",
    "    axes.set_aspect('equal')               # I have no idea \n",
    "    plt.subplots_adjust(bottom = 0.2)      # ditto\n",
    "    axes.clear()\n",
    "    axes.set_yticks([])\n",
    "    axes.set_xticks([])\n",
    "    axes.set_yticklabels([])\n",
    "    axes.set_xticklabels([])\n",
    "    axes.invert_yaxis()\n",
    "    axes.imshow(image)\n",
    "    fig.canvas.draw()\n",
    "    # #######################################\n",
    "    # END MATPLOTLIB BOILERPLATE\n",
    "    # #######################################\n",
    "\n",
    "    segments, ctr = vec_getCellSegments(thresh,image)\n",
    "    for s in segments:\n",
    "        x1 = (0.5+s[1])\n",
    "        x2 = (0.5+s[3])\n",
    "        y1 = (0.5+s[0])\n",
    "        y2 = (0.5+s[2])\n",
    "        axes.plot([x1,x2], [y1,y2], color='white', linestyle='-', linewidth=1)\n",
    "        \n",
    "    buf = io.BytesIO()\n",
    "    plt.savefig(buf, format = 'png')\n",
    "    buf.seek(0)\n",
    "    img = cv2.imdecode(np.frombuffer(buf.read(), np.uint8), 1)\n",
    "    img = cv2.cvtColor(img, cv2.COLOR_BGR2RGB)\n",
    "    plt.close(fig)\n",
    "    plt.ion()\n",
    "    return img"
   ]
  },
  {
   "cell_type": "code",
   "execution_count": 483,
   "metadata": {},
   "outputs": [
    {
     "name": "stderr",
     "output_type": "stream",
     "text": [
      "<ipython-input-227-42b59db10b79>:2: RuntimeWarning: divide by zero encountered in true_divide\n",
      "  return (t - v1)/(v2-v1)\n"
     ]
    },
    {
     "name": "stdout",
     "output_type": "stream",
     "text": [
      "Frame i=0 @ thresh=300 took 0.141 seconds 0.145 elapsed total\n",
      "Frame i=10 @ thresh=300 took 0.185 seconds 1.950 elapsed total\n",
      "Frame i=20 @ thresh=300 took 0.178 seconds 3.722 elapsed total\n"
     ]
    },
    {
     "name": "stderr",
     "output_type": "stream",
     "text": [
      "<ipython-input-227-42b59db10b79>:2: RuntimeWarning: invalid value encountered in true_divide\n",
      "  return (t - v1)/(v2-v1)\n"
     ]
    },
    {
     "name": "stdout",
     "output_type": "stream",
     "text": [
      "Frame i=30 @ thresh=300 took 0.189 seconds 5.609 elapsed total\n",
      "Frame i=40 @ thresh=300 took 0.211 seconds 7.579 elapsed total\n",
      "Frame i=50 @ thresh=300 took 0.210 seconds 9.631 elapsed total\n",
      "Frame i=60 @ thresh=300 took 0.210 seconds 11.753 elapsed total\n",
      "Frame i=70 @ thresh=300 took 0.201 seconds 13.842 elapsed total\n",
      "Frame i=80 @ thresh=300 took 0.206 seconds 16.081 elapsed total\n",
      "Frame i=90 @ thresh=300 took 0.199 seconds 18.227 elapsed total\n",
      "Frame i=100 @ thresh=300 took 0.190 seconds 20.234 elapsed total\n",
      "Frame i=110 @ thresh=300 took 0.220 seconds 22.361 elapsed total\n",
      "Frame i=120 @ thresh=300 took 0.223 seconds 24.536 elapsed total\n",
      "Frame i=130 @ thresh=300 took 0.210 seconds 26.707 elapsed total\n",
      "Frame i=140 @ thresh=300 took 0.207 seconds 28.834 elapsed total\n",
      "Frame i=150 @ thresh=300 took 0.197 seconds 30.931 elapsed total\n",
      "Frame i=160 @ thresh=300 took 0.222 seconds 33.099 elapsed total\n",
      "Frame i=170 @ thresh=300 took 0.210 seconds 35.187 elapsed total\n",
      "Frame i=180 @ thresh=300 took 0.199 seconds 37.200 elapsed total\n",
      "Frame i=190 @ thresh=300 took 0.210 seconds 39.258 elapsed total\n",
      "Total execution took 39.476 seconds.  Frame average 0.206 seconds variance 0.015\n"
     ]
    }
   ],
   "source": [
    "# I manually figured these points out\n",
    "crop = test_fdata[:, 75:150, 65:170]\n",
    "\n",
    "thresh = 300\n",
    "frames = test_fdata.shape[0]\n",
    "\n",
    "timing_x = 0\n",
    "timing_xx = 0\n",
    "\n",
    "import time\n",
    "#time.perf_counter()\n",
    "#32311.48899951\n",
    "#>>> time.perf_counter()  # A few seconds later\n",
    "#32315.261320793\n",
    "\n",
    "start_t = time.perf_counter()\n",
    "out = cv2.VideoWriter('project.avi', cv2.VideoWriter_fourcc(*'DIVX'), 15, (2560, 2560))\n",
    "for i in range(frames):\n",
    "    start_f = time.perf_counter()\n",
    "    out.write( rasterize(test_fdata[i], thresh) )\n",
    "    stop_f = time.perf_counter()\n",
    "    frame_t = stop_f - start_f\n",
    "    if i % 10 == 0: print(\"Frame i={0} @ thresh={1} took {2:5.3f} seconds {3:5.3f} elapsed total\".format(i, thresh, frame_t, stop_f - start_t))\n",
    "    timing_x += frame_t\n",
    "    timing_xx += frame_t*frame_t\n",
    "out.release()\n",
    "stop_t = time.perf_counter()\n",
    "total_t = stop_t - start_t\n",
    "mean_f = timing_x / frames\n",
    "std_f = np.sqrt((timing_xx / frames) - mean_f*mean_f)\n",
    "          \n",
    "print(\"Total execution took {0:5.3f} seconds.  Frame average {1:5.3f} seconds variance {2:5.3f}\".format(total_t, mean_f, std_f))"
   ]
  },
  {
   "cell_type": "code",
   "execution_count": 456,
   "metadata": {},
   "outputs": [
    {
     "name": "stderr",
     "output_type": "stream",
     "text": [
      "<ipython-input-227-42b59db10b79>:2: RuntimeWarning: divide by zero encountered in true_divide\n",
      "  return (t - v1)/(v2-v1)\n"
     ]
    },
    {
     "data": {
      "text/plain": [
       "(2560, 2560)"
      ]
     },
     "execution_count": 456,
     "metadata": {},
     "output_type": "execute_result"
    }
   ],
   "source": [
    "rasterize(test_fdata[i], thresh).shape"
   ]
  },
  {
   "cell_type": "code",
   "execution_count": null,
   "metadata": {},
   "outputs": [],
   "source": [
    "Total execution took 163.257 seconds.  Frame average 0.850 seconds variance 0.441\n"
   ]
  }
 ],
 "metadata": {
  "kernelspec": {
   "display_name": "Python 3",
   "language": "python",
   "name": "python3"
  },
  "language_info": {
   "codemirror_mode": {
    "name": "ipython",
    "version": 3
   },
   "file_extension": ".py",
   "mimetype": "text/x-python",
   "name": "python",
   "nbconvert_exporter": "python",
   "pygments_lexer": "ipython3",
   "version": "3.8.5"
  }
 },
 "nbformat": 4,
 "nbformat_minor": 4
}
